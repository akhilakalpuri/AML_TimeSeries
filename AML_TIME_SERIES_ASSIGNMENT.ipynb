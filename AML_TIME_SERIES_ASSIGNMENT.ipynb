{
  "nbformat": 4,
  "nbformat_minor": 0,
  "metadata": {
    "colab": {
      "provenance": [],
      "machine_shape": "hm",
      "gpuType": "T4"
    },
    "kernelspec": {
      "name": "python3",
      "display_name": "Python 3"
    },
    "language_info": {
      "name": "python"
    },
    "accelerator": "GPU"
  },
  "cells": [
    {
      "cell_type": "markdown",
      "source": [
        "# **Assignment 3 - RRN - Weather Time Series Forcasting**\n",
        "\n",
        "# **Name: Akhila Kalpuri**\n",
        "\n",
        "# **Date: 04-04-2024**"
      ],
      "metadata": {
        "id": "xwPMT_iambhW"
      }
    },
    {
      "cell_type": "markdown",
      "source": [
        "**A temperature-forecasting example- Data Upload from mazon Web Services (AWS) /keras**"
      ],
      "metadata": {
        "id": "kkqowFp5maQq"
      }
    },
    {
      "cell_type": "code",
      "source": [
        "!pip install tensorflow==2.12"
      ],
      "metadata": {
        "id": "yAEKN0sPmiEA",
        "colab": {
          "base_uri": "https://localhost:8080/"
        },
        "outputId": "21225127-bdec-4715-ccdf-28ca5d059b51"
      },
      "execution_count": null,
      "outputs": [
        {
          "output_type": "stream",
          "name": "stdout",
          "text": [
            "Requirement already satisfied: tensorflow==2.12 in /usr/local/lib/python3.10/dist-packages (2.12.0)\n",
            "Requirement already satisfied: absl-py>=1.0.0 in /usr/local/lib/python3.10/dist-packages (from tensorflow==2.12) (1.4.0)\n",
            "Requirement already satisfied: astunparse>=1.6.0 in /usr/local/lib/python3.10/dist-packages (from tensorflow==2.12) (1.6.3)\n",
            "Requirement already satisfied: flatbuffers>=2.0 in /usr/local/lib/python3.10/dist-packages (from tensorflow==2.12) (24.3.25)\n",
            "Requirement already satisfied: gast<=0.4.0,>=0.2.1 in /usr/local/lib/python3.10/dist-packages (from tensorflow==2.12) (0.4.0)\n",
            "Requirement already satisfied: google-pasta>=0.1.1 in /usr/local/lib/python3.10/dist-packages (from tensorflow==2.12) (0.2.0)\n",
            "Requirement already satisfied: grpcio<2.0,>=1.24.3 in /usr/local/lib/python3.10/dist-packages (from tensorflow==2.12) (1.62.1)\n",
            "Requirement already satisfied: h5py>=2.9.0 in /usr/local/lib/python3.10/dist-packages (from tensorflow==2.12) (3.9.0)\n",
            "Requirement already satisfied: jax>=0.3.15 in /usr/local/lib/python3.10/dist-packages (from tensorflow==2.12) (0.4.23)\n",
            "Requirement already satisfied: keras<2.13,>=2.12.0 in /usr/local/lib/python3.10/dist-packages (from tensorflow==2.12) (2.12.0)\n",
            "Requirement already satisfied: libclang>=13.0.0 in /usr/local/lib/python3.10/dist-packages (from tensorflow==2.12) (18.1.1)\n",
            "Requirement already satisfied: numpy<1.24,>=1.22 in /usr/local/lib/python3.10/dist-packages (from tensorflow==2.12) (1.23.5)\n",
            "Requirement already satisfied: opt-einsum>=2.3.2 in /usr/local/lib/python3.10/dist-packages (from tensorflow==2.12) (3.3.0)\n",
            "Requirement already satisfied: packaging in /usr/local/lib/python3.10/dist-packages (from tensorflow==2.12) (24.0)\n",
            "Requirement already satisfied: protobuf!=4.21.0,!=4.21.1,!=4.21.2,!=4.21.3,!=4.21.4,!=4.21.5,<5.0.0dev,>=3.20.3 in /usr/local/lib/python3.10/dist-packages (from tensorflow==2.12) (3.20.3)\n",
            "Requirement already satisfied: setuptools in /usr/local/lib/python3.10/dist-packages (from tensorflow==2.12) (67.7.2)\n",
            "Requirement already satisfied: six>=1.12.0 in /usr/local/lib/python3.10/dist-packages (from tensorflow==2.12) (1.16.0)\n",
            "Requirement already satisfied: tensorboard<2.13,>=2.12 in /usr/local/lib/python3.10/dist-packages (from tensorflow==2.12) (2.12.3)\n",
            "Requirement already satisfied: tensorflow-estimator<2.13,>=2.12.0 in /usr/local/lib/python3.10/dist-packages (from tensorflow==2.12) (2.12.0)\n",
            "Requirement already satisfied: termcolor>=1.1.0 in /usr/local/lib/python3.10/dist-packages (from tensorflow==2.12) (2.4.0)\n",
            "Requirement already satisfied: typing-extensions>=3.6.6 in /usr/local/lib/python3.10/dist-packages (from tensorflow==2.12) (4.10.0)\n",
            "Requirement already satisfied: wrapt<1.15,>=1.11.0 in /usr/local/lib/python3.10/dist-packages (from tensorflow==2.12) (1.14.1)\n",
            "Requirement already satisfied: tensorflow-io-gcs-filesystem>=0.23.1 in /usr/local/lib/python3.10/dist-packages (from tensorflow==2.12) (0.36.0)\n",
            "Requirement already satisfied: wheel<1.0,>=0.23.0 in /usr/local/lib/python3.10/dist-packages (from astunparse>=1.6.0->tensorflow==2.12) (0.43.0)\n",
            "Requirement already satisfied: ml-dtypes>=0.2.0 in /usr/local/lib/python3.10/dist-packages (from jax>=0.3.15->tensorflow==2.12) (0.2.0)\n",
            "Requirement already satisfied: scipy>=1.9 in /usr/local/lib/python3.10/dist-packages (from jax>=0.3.15->tensorflow==2.12) (1.11.4)\n",
            "Requirement already satisfied: google-auth<3,>=1.6.3 in /usr/local/lib/python3.10/dist-packages (from tensorboard<2.13,>=2.12->tensorflow==2.12) (2.27.0)\n",
            "Requirement already satisfied: google-auth-oauthlib<1.1,>=0.5 in /usr/local/lib/python3.10/dist-packages (from tensorboard<2.13,>=2.12->tensorflow==2.12) (1.0.0)\n",
            "Requirement already satisfied: markdown>=2.6.8 in /usr/local/lib/python3.10/dist-packages (from tensorboard<2.13,>=2.12->tensorflow==2.12) (3.6)\n",
            "Requirement already satisfied: requests<3,>=2.21.0 in /usr/local/lib/python3.10/dist-packages (from tensorboard<2.13,>=2.12->tensorflow==2.12) (2.31.0)\n",
            "Requirement already satisfied: tensorboard-data-server<0.8.0,>=0.7.0 in /usr/local/lib/python3.10/dist-packages (from tensorboard<2.13,>=2.12->tensorflow==2.12) (0.7.2)\n",
            "Requirement already satisfied: werkzeug>=1.0.1 in /usr/local/lib/python3.10/dist-packages (from tensorboard<2.13,>=2.12->tensorflow==2.12) (3.0.2)\n",
            "Requirement already satisfied: cachetools<6.0,>=2.0.0 in /usr/local/lib/python3.10/dist-packages (from google-auth<3,>=1.6.3->tensorboard<2.13,>=2.12->tensorflow==2.12) (5.3.3)\n",
            "Requirement already satisfied: pyasn1-modules>=0.2.1 in /usr/local/lib/python3.10/dist-packages (from google-auth<3,>=1.6.3->tensorboard<2.13,>=2.12->tensorflow==2.12) (0.4.0)\n",
            "Requirement already satisfied: rsa<5,>=3.1.4 in /usr/local/lib/python3.10/dist-packages (from google-auth<3,>=1.6.3->tensorboard<2.13,>=2.12->tensorflow==2.12) (4.9)\n",
            "Requirement already satisfied: requests-oauthlib>=0.7.0 in /usr/local/lib/python3.10/dist-packages (from google-auth-oauthlib<1.1,>=0.5->tensorboard<2.13,>=2.12->tensorflow==2.12) (1.3.1)\n",
            "Requirement already satisfied: charset-normalizer<4,>=2 in /usr/local/lib/python3.10/dist-packages (from requests<3,>=2.21.0->tensorboard<2.13,>=2.12->tensorflow==2.12) (3.3.2)\n",
            "Requirement already satisfied: idna<4,>=2.5 in /usr/local/lib/python3.10/dist-packages (from requests<3,>=2.21.0->tensorboard<2.13,>=2.12->tensorflow==2.12) (3.6)\n",
            "Requirement already satisfied: urllib3<3,>=1.21.1 in /usr/local/lib/python3.10/dist-packages (from requests<3,>=2.21.0->tensorboard<2.13,>=2.12->tensorflow==2.12) (2.0.7)\n",
            "Requirement already satisfied: certifi>=2017.4.17 in /usr/local/lib/python3.10/dist-packages (from requests<3,>=2.21.0->tensorboard<2.13,>=2.12->tensorflow==2.12) (2024.2.2)\n",
            "Requirement already satisfied: MarkupSafe>=2.1.1 in /usr/local/lib/python3.10/dist-packages (from werkzeug>=1.0.1->tensorboard<2.13,>=2.12->tensorflow==2.12) (2.1.5)\n",
            "Requirement already satisfied: pyasn1<0.7.0,>=0.4.6 in /usr/local/lib/python3.10/dist-packages (from pyasn1-modules>=0.2.1->google-auth<3,>=1.6.3->tensorboard<2.13,>=2.12->tensorflow==2.12) (0.6.0)\n",
            "Requirement already satisfied: oauthlib>=3.0.0 in /usr/local/lib/python3.10/dist-packages (from requests-oauthlib>=0.7.0->google-auth-oauthlib<1.1,>=0.5->tensorboard<2.13,>=2.12->tensorflow==2.12) (3.2.2)\n"
          ]
        }
      ]
    },
    {
      "cell_type": "code",
      "source": [
        "!wget https://s3.amazonaws.com/keras-datasets/jena_climate_2009_2016.csv.zip\n",
        "!unzip jena_climate_2009_2016.csv.zip"
      ],
      "metadata": {
        "id": "GPdbvtRfmmrI",
        "colab": {
          "base_uri": "https://localhost:8080/"
        },
        "outputId": "18bb3460-954c-4f89-c7e1-298f5c2b59fa"
      },
      "execution_count": null,
      "outputs": [
        {
          "output_type": "stream",
          "name": "stdout",
          "text": [
            "--2024-04-07 22:28:45--  https://s3.amazonaws.com/keras-datasets/jena_climate_2009_2016.csv.zip\n",
            "Resolving s3.amazonaws.com (s3.amazonaws.com)... 54.231.159.0, 54.231.135.120, 16.182.64.24, ...\n",
            "Connecting to s3.amazonaws.com (s3.amazonaws.com)|54.231.159.0|:443... connected.\n",
            "HTTP request sent, awaiting response... 200 OK\n",
            "Length: 13565642 (13M) [application/zip]\n",
            "Saving to: ‘jena_climate_2009_2016.csv.zip’\n",
            "\n",
            "jena_climate_2009_2 100%[===================>]  12.94M  54.6MB/s    in 0.2s    \n",
            "\n",
            "2024-04-07 22:28:46 (54.6 MB/s) - ‘jena_climate_2009_2016.csv.zip’ saved [13565642/13565642]\n",
            "\n",
            "Archive:  jena_climate_2009_2016.csv.zip\n",
            "  inflating: jena_climate_2009_2016.csv  \n",
            "  inflating: __MACOSX/._jena_climate_2009_2016.csv  \n"
          ]
        }
      ]
    },
    {
      "cell_type": "markdown",
      "source": [
        "**Inspecting the data of the Jena weather dataset - 420451 rows and 15 Features**"
      ],
      "metadata": {
        "id": "Evd1UfMUre5n"
      }
    },
    {
      "cell_type": "code",
      "source": [
        "import os\n",
        "fname = os.path.join(\"jena_climate_2009_2016.csv\")\n",
        "\n",
        "with open(fname) as f:\n",
        "    data = f.read()\n",
        "\n",
        "lines = data.split(\"\\n\")\n",
        "header = lines[0].split(\",\")\n",
        "lines = lines[1:]\n",
        "print(header)\n",
        "print(len(lines))\n",
        "\n",
        "num_variables = len(header)\n",
        "print(\"Number of variables:\", num_variables)\n",
        "num_rows = len(lines)\n",
        "print(\"Number of rows:\", num_rows)"
      ],
      "metadata": {
        "id": "f0MiKAd5nHBT",
        "colab": {
          "base_uri": "https://localhost:8080/"
        },
        "outputId": "561f3691-da13-4637-962a-c42b40a19c91"
      },
      "execution_count": null,
      "outputs": [
        {
          "output_type": "stream",
          "name": "stdout",
          "text": [
            "['\"Date Time\"', '\"p (mbar)\"', '\"T (degC)\"', '\"Tpot (K)\"', '\"Tdew (degC)\"', '\"rh (%)\"', '\"VPmax (mbar)\"', '\"VPact (mbar)\"', '\"VPdef (mbar)\"', '\"sh (g/kg)\"', '\"H2OC (mmol/mol)\"', '\"rho (g/m**3)\"', '\"wv (m/s)\"', '\"max. wv (m/s)\"', '\"wd (deg)\"']\n",
            "420451\n",
            "Number of variables: 15\n",
            "Number of rows: 420451\n"
          ]
        }
      ]
    },
    {
      "cell_type": "markdown",
      "source": [
        "**Parsing the data- converting the comma-separated values into floating-point numbers, and then storing specific values in the temperature and raw_data arrays for further processing or analysis.**"
      ],
      "metadata": {
        "id": "7-JbGsf3nJsV"
      }
    },
    {
      "cell_type": "code",
      "source": [
        "import numpy as np\n",
        "temperature = np.zeros((len(lines),))\n",
        "raw_data = np.zeros((len(lines), len(header) - 1))\n",
        "for i, line in enumerate(lines):\n",
        "    values = [float(x) for x in line.split(\",\")[1:]]\n",
        "    temperature[i] = values[1]\n",
        "    raw_data[i, :] = values[:]"
      ],
      "metadata": {
        "id": "tyNvOe6-nK9Q"
      },
      "execution_count": null,
      "outputs": []
    },
    {
      "cell_type": "markdown",
      "source": [
        "**Plotting the temperature timeseries**"
      ],
      "metadata": {
        "id": "TM3lWz1HnOT4"
      }
    },
    {
      "cell_type": "code",
      "source": [
        "from matplotlib import pyplot as plt\n",
        "plt.plot(range(len(temperature)), temperature)\n",
        "plt.xlabel('Data points')\n",
        "plt.ylabel('Temperature')"
      ],
      "metadata": {
        "id": "WlBmnbU2nQIJ",
        "colab": {
          "base_uri": "https://localhost:8080/",
          "height": 470
        },
        "outputId": "c989e89b-ee45-4e13-a7e0-5609f342995a"
      },
      "execution_count": null,
      "outputs": [
        {
          "output_type": "execute_result",
          "data": {
            "text/plain": [
              "Text(0, 0.5, 'Temperature')"
            ]
          },
          "metadata": {},
          "execution_count": 5
        },
        {
          "output_type": "display_data",
          "data": {
            "text/plain": [
              "<Figure size 640x480 with 1 Axes>"
            ],
            "image/png": "[encoded data removed]"
          },
          "metadata": {}
        }
      ]
    },
    {
      "cell_type": "markdown",
      "source": [
        "**Plotting the first 10 days of the temperature timeseries- As given that one day data has 144 data points hence 10days will have 1440 data points**"
      ],
      "metadata": {
        "id": "DeueZLGpnSpm"
      }
    },
    {
      "cell_type": "code",
      "source": [
        "plt.plot(range(1440), temperature[:1440])\n",
        "plt.xlabel('Data points')\n",
        "plt.ylabel('Temperature')"
      ],
      "metadata": {
        "id": "W40YECMKnUwr",
        "colab": {
          "base_uri": "https://localhost:8080/",
          "height": 466
        },
        "outputId": "8b4ff322-a4e7-4602-bd1c-85e7c1b1880e"
      },
      "execution_count": null,
      "outputs": [
        {
          "output_type": "execute_result",
          "data": {
            "text/plain": [
              "Text(0, 0.5, 'Temperature')"
            ]
          },
          "metadata": {},
          "execution_count": 6
        },
        {
          "output_type": "display_data",
          "data": {
            "text/plain": [
              "<Figure size 640x480 with 1 Axes>"
            ],
            "image/png": "[encoded data removed]"
          },
          "metadata": {}
        }
      ]
    },
    {
      "cell_type": "markdown",
      "source": [
        "**Computing the number of samples we'll use for each data split- 50% for Train, 25%- validation**"
      ],
      "metadata": {
        "id": "ELhBtwaGnXdx"
      }
    },
    {
      "cell_type": "code",
      "source": [
        "num_train_samples = int(0.5 * len(raw_data))\n",
        "num_val_samples = int(0.25 * len(raw_data))\n",
        "num_test_samples = len(raw_data) - num_train_samples - num_val_samples\n",
        "print(\"num_train_samples:\", num_train_samples)\n",
        "print(\"num_val_samples:\", num_val_samples)\n",
        "print(\"num_test_samples:\", num_test_samples)"
      ],
      "metadata": {
        "id": "l_zsL6lxnZcM",
        "colab": {
          "base_uri": "https://localhost:8080/"
        },
        "outputId": "f1e3fce9-eeeb-447c-c773-563eacdf2670"
      },
      "execution_count": null,
      "outputs": [
        {
          "output_type": "stream",
          "name": "stdout",
          "text": [
            "num_train_samples: 210225\n",
            "num_val_samples: 105112\n",
            "num_test_samples: 105114\n"
          ]
        }
      ]
    },
    {
      "cell_type": "markdown",
      "source": [
        "### **Preparing the data**"
      ],
      "metadata": {
        "id": "JA2h4AzOncNv"
      }
    },
    {
      "cell_type": "markdown",
      "source": [
        "**Normalizing the data- Since the data is already in a numerical format, vectorization is unnecessary. However, given that the data scales differ across variables, with temperature ranging from -20 to +30 and pressure measured in millibars, it is advisable to standardize all variables.**"
      ],
      "metadata": {
        "id": "V-PF1_einflC"
      }
    },
    {
      "cell_type": "code",
      "source": [
        "mean = raw_data[:num_train_samples].mean(axis=0)\n",
        "raw_data -= mean\n",
        "std = raw_data[:num_train_samples].std(axis=0)\n",
        "raw_data /= std"
      ],
      "metadata": {
        "id": "uIcpFmSxndL5"
      },
      "execution_count": null,
      "outputs": []
    },
    {
      "cell_type": "code",
      "source": [
        "import numpy as np\n",
        "from tensorflow import keras\n",
        "int_sequence = np.arange(10)\n",
        "dummy_dataset = keras.utils.timeseries_dataset_from_array(\n",
        "    data=int_sequence[:-3],\n",
        "    targets=int_sequence[3:],\n",
        "    sequence_length=3,\n",
        "    batch_size=2,\n",
        ")\n",
        "\n",
        "for inputs, targets in dummy_dataset:\n",
        "    for i in range(inputs.shape[0]):\n",
        "        print([int(x) for x in inputs[i]], int(targets[i]))"
      ],
      "metadata": {
        "id": "EHg3Z3KZniyJ",
        "colab": {
          "base_uri": "https://localhost:8080/"
        },
        "outputId": "5bd13b26-1c2c-4936-9625-9df5d65d7361"
      },
      "execution_count": null,
      "outputs": [
        {
          "output_type": "stream",
          "name": "stdout",
          "text": [
            "[0, 1, 2] 3\n",
            "[1, 2, 3] 4\n",
            "[2, 3, 4] 5\n",
            "[3, 4, 5] 6\n",
            "[4, 5, 6] 7\n"
          ]
        }
      ]
    },
    {
      "cell_type": "markdown",
      "source": [
        "**Instantiating datasets for training, validation, and testing - it is required because the samples in the dataset are highly redundant Hence, it would be inefficient to allocate memory for each sample explicitly. Instead, we will generate the samples dynamically.**"
      ],
      "metadata": {
        "id": "5BFJjBi_niVM"
      }
    },
    {
      "cell_type": "code",
      "source": [
        "sampling_rate = 6\n",
        "sequence_length = 120\n",
        "delay = sampling_rate * (sequence_length + 24 - 1)\n",
        "batch_size = 256\n",
        "\n",
        "train_dataset = keras.utils.timeseries_dataset_from_array(\n",
        "    raw_data[:-delay],\n",
        "    targets=temperature[delay:],\n",
        "    sampling_rate=sampling_rate,\n",
        "    sequence_length=sequence_length,\n",
        "    shuffle=True,\n",
        "    batch_size=batch_size,\n",
        "    start_index=0,\n",
        "    end_index=num_train_samples)\n",
        "\n",
        "val_dataset = keras.utils.timeseries_dataset_from_array(\n",
        "    raw_data[:-delay],\n",
        "    targets=temperature[delay:],\n",
        "    sampling_rate=sampling_rate,\n",
        "    sequence_length=sequence_length,\n",
        "    shuffle=True,\n",
        "    batch_size=batch_size,\n",
        "    start_index=num_train_samples,\n",
        "    end_index=num_train_samples + num_val_samples)\n",
        "\n",
        "test_dataset = keras.utils.timeseries_dataset_from_array(\n",
        "    raw_data[:-delay],\n",
        "    targets=temperature[delay:],\n",
        "    sampling_rate=sampling_rate,\n",
        "    sequence_length=sequence_length,\n",
        "    shuffle=True,\n",
        "    batch_size=batch_size,\n",
        "    start_index=num_train_samples + num_val_samples)"
      ],
      "metadata": {
        "id": "t_iWqvlmnocp"
      },
      "execution_count": null,
      "outputs": []
    },
    {
      "cell_type": "markdown",
      "source": [
        "**Inspecting the output of one of our datasets**"
      ],
      "metadata": {
        "id": "VBKd4cXfnrjY"
      }
    },
    {
      "cell_type": "code",
      "source": [
        "for samples, targets in train_dataset:\n",
        "    print(\"samples shape:\", samples.shape)\n",
        "    print(\"targets shape:\", targets.shape)\n",
        "    break"
      ],
      "metadata": {
        "id": "313Ysa38ntpQ",
        "colab": {
          "base_uri": "https://localhost:8080/"
        },
        "outputId": "974b8f9b-1690-4896-bc15-96e26f095da6"
      },
      "execution_count": null,
      "outputs": [
        {
          "output_type": "stream",
          "name": "stdout",
          "text": [
            "samples shape: (256, 120, 14)\n",
            "targets shape: (256,)\n"
          ]
        }
      ]
    },
    {
      "cell_type": "markdown",
      "source": [
        "### **A common-sense, non-machine-learning baseline**"
      ],
      "metadata": {
        "id": "SfShZ0bfnyNd"
      }
    },
    {
      "cell_type": "markdown",
      "source": [
        "**Computing the common-sense baseline MAE - This defined function \"evaluate_naive_method\" provides a baseline for evaluating the performance of a simple forecasting approach, where the last value in the input sequence is used as a prediction for the next value.**"
      ],
      "metadata": {
        "id": "kQ1C8RKVn0Ot"
      }
    },
    {
      "cell_type": "code",
      "source": [
        "def evaluate_naive_method(dataset):\n",
        "    total_abs_err = 0.\n",
        "    samples_seen = 0\n",
        "    for samples, targets in dataset:\n",
        "        preds = samples[:, -1, 1] * std[1] + mean[1]\n",
        "        total_abs_err += np.sum(np.abs(preds - targets))\n",
        "        samples_seen += samples.shape[0]\n",
        "    return total_abs_err / samples_seen\n",
        "\n",
        "print(f\"Validation MAE: {evaluate_naive_method(val_dataset):.2f}\")\n",
        "print(f\"Test MAE: {evaluate_naive_method(test_dataset):.2f}\")"
      ],
      "metadata": {
        "id": "d94qP2KbnvVK",
        "colab": {
          "base_uri": "https://localhost:8080/"
        },
        "outputId": "69bf14f0-4daa-4865-a972-89d5fed601d1"
      },
      "execution_count": null,
      "outputs": [
        {
          "output_type": "stream",
          "name": "stdout",
          "text": [
            "Validation MAE: 2.44\n",
            "Test MAE: 2.62\n"
          ]
        }
      ]
    },
    {
      "cell_type": "markdown",
      "source": [
        "Common-sense baseline approach is to predict that the temperature 24 hours ahead will be identical to the current temperature. By using this straightforward baseline, the validation MAE (Mean Absolute Error) is 2.44 degrees Celsius, while the test MAE is 2.62 degrees Celsius. In other words, assuming that the temperature in the future remains the same as the current temperature would result in an average deviation of approximately two and a half degrees."
      ],
      "metadata": {
        "id": "zTWEp4hqn4-U"
      }
    },
    {
      "cell_type": "markdown",
      "source": [
        "### **A basic machine-learning model - Dense Layer**"
      ],
      "metadata": {
        "id": "WXiJYJBKn7Hp"
      }
    },
    {
      "cell_type": "markdown",
      "source": [
        "**Training and evaluating a densely connected model**"
      ],
      "metadata": {
        "id": "LRCzxYCSn9uI"
      }
    },
    {
      "cell_type": "code",
      "source": [
        "from tensorflow import keras\n",
        "from tensorflow.keras import layers\n",
        "\n",
        "inputs = keras.Input(shape=(sequence_length, raw_data.shape[-1]))\n",
        "x = layers.Flatten()(inputs)\n",
        "x = layers.Dense(16, activation=\"relu\")(x)\n",
        "outputs = layers.Dense(1)(x)\n",
        "model = keras.Model(inputs, outputs)"
      ],
      "metadata": {
        "id": "lbrF2qucn_mN"
      },
      "execution_count": null,
      "outputs": []
    },
    {
      "cell_type": "code",
      "source": [
        "callbacks = [\n",
        "    keras.callbacks.ModelCheckpoint(\"jena_dense.keras\",\n",
        "                                    save_best_only=True)]"
      ],
      "metadata": {
        "id": "ElS0SEhRoB2i"
      },
      "execution_count": null,
      "outputs": []
    },
    {
      "cell_type": "code",
      "source": [
        "model.compile(optimizer=\"rmsprop\", loss=\"mse\", metrics=[\"mae\"])"
      ],
      "metadata": {
        "id": "S8VY3t-noElt"
      },
      "execution_count": null,
      "outputs": []
    },
    {
      "cell_type": "code",
      "source": [
        "history = model.fit(train_dataset, epochs=10,\n",
        "                    validation_data = val_dataset, callbacks=callbacks)"
      ],
      "metadata": {
        "id": "ComR3lXPoGO7",
        "colab": {
          "base_uri": "https://localhost:8080/"
        },
        "outputId": "4bd6f4ed-779a-463e-a98c-1ca9c055c02d"
      },
      "execution_count": null,
      "outputs": [
        {
          "output_type": "stream",
          "name": "stdout",
          "text": [
            "Epoch 1/10\n",
            "819/819 [==============================] - 52s 62ms/step - loss: 13.0174 - mae: 2.7855 - val_loss: 11.5429 - val_mae: 2.6901\n",
            "Epoch 2/10\n",
            "819/819 [==============================] - 50s 61ms/step - loss: 9.0771 - mae: 2.3727 - val_loss: 11.0112 - val_mae: 2.6269\n",
            "Epoch 3/10\n",
            "819/819 [==============================] - 54s 66ms/step - loss: 8.2905 - mae: 2.2716 - val_loss: 17.3812 - val_mae: 3.3651\n",
            "Epoch 4/10\n",
            "819/819 [==============================] - 50s 60ms/step - loss: 7.8497 - mae: 2.2082 - val_loss: 10.7525 - val_mae: 2.6070\n",
            "Epoch 5/10\n",
            "819/819 [==============================] - 56s 68ms/step - loss: 7.5325 - mae: 2.1664 - val_loss: 12.6078 - val_mae: 2.8362\n",
            "Epoch 6/10\n",
            "819/819 [==============================] - 54s 66ms/step - loss: 7.3028 - mae: 2.1349 - val_loss: 10.8016 - val_mae: 2.6176\n",
            "Epoch 7/10\n",
            "819/819 [==============================] - 49s 60ms/step - loss: 7.1156 - mae: 2.1086 - val_loss: 10.6057 - val_mae: 2.5832\n",
            "Epoch 8/10\n",
            "819/819 [==============================] - 49s 60ms/step - loss: 6.9530 - mae: 2.0836 - val_loss: 11.1336 - val_mae: 2.6518\n",
            "Epoch 9/10\n",
            "819/819 [==============================] - 49s 60ms/step - loss: 6.8277 - mae: 2.0653 - val_loss: 10.6304 - val_mae: 2.5765\n",
            "Epoch 10/10\n",
            "819/819 [==============================] - 55s 67ms/step - loss: 6.7008 - mae: 2.0465 - val_loss: 11.1766 - val_mae: 2.6368\n"
          ]
        }
      ]
    },
    {
      "cell_type": "code",
      "source": [
        "model = keras.models.load_model(\"jena_dense.keras\")\n",
        "print(f\"Test MAE: {model.evaluate(test_dataset)[1]:.2f}\")"
      ],
      "metadata": {
        "id": "699GUd_-oIgU",
        "colab": {
          "base_uri": "https://localhost:8080/"
        },
        "outputId": "ec630e12-bb97-496d-ad4d-ff36b3f70b66"
      },
      "execution_count": null,
      "outputs": [
        {
          "output_type": "stream",
          "name": "stdout",
          "text": [
            "405/405 [==============================] - 19s 45ms/step - loss: 11.6681 - mae: 2.6796\n",
            "Test MAE: 2.68\n"
          ]
        }
      ]
    },
    {
      "cell_type": "markdown",
      "source": [
        "**Plotting results**"
      ],
      "metadata": {
        "id": "30VAG7QMoK0j"
      }
    },
    {
      "cell_type": "code",
      "source": [
        "import matplotlib.pyplot as plt\n",
        "loss = history.history[\"mae\"]\n",
        "val_loss = history.history[\"val_mae\"]\n",
        "\n",
        "epochs = range(1, len(loss) + 1)\n",
        "plt.figure()\n",
        "plt.plot(epochs, loss, color=\"grey\", linestyle=\"dashed\", label=\"Training MAE\")\n",
        "plt.plot(epochs,  val_loss, color=\"blue\",linestyle=\"dashed\", label=\"Validation MAE\")\n",
        "plt.title(\"Training and validation MAE\")\n",
        "plt.xlabel(\"Epochs\")\n",
        "plt.ylabel(\"MAE\")\n",
        "plt.legend()\n",
        "plt.show()"
      ],
      "metadata": {
        "id": "Zotk_Iv5oMKN",
        "colab": {
          "base_uri": "https://localhost:8080/",
          "height": 472
        },
        "outputId": "826546ba-5d3a-4660-9451-504c3d8415d5"
      },
      "execution_count": null,
      "outputs": [
        {
          "output_type": "display_data",
          "data": {
            "text/plain": [
              "<Figure size 640x480 with 1 Axes>"
            ],
            "image/png": "[encoded data removed]"
          },
          "metadata": {}
        }
      ]
    },
    {
      "cell_type": "markdown",
      "source": [
        "### **Let's try a 1D convolutional model**"
      ],
      "metadata": {
        "id": "a3BUsR_voQ1L"
      }
    },
    {
      "cell_type": "code",
      "source": [
        "inputs = keras.Input(shape=(sequence_length, raw_data.shape[-1]))\n",
        "x = layers.Conv1D(8, 24, activation=\"relu\")(inputs)\n",
        "x = layers.MaxPooling1D(2)(x)\n",
        "x = layers.Conv1D(8, 12, activation=\"relu\")(x)\n",
        "x = layers.MaxPooling1D(2)(x)\n",
        "x = layers.Conv1D(8, 6, activation=\"relu\")(x)\n",
        "x = layers.GlobalAveragePooling1D()(x)\n",
        "outputs = layers.Dense(1)(x)\n",
        "model = keras.Model(inputs, outputs)\n",
        "\n",
        "callbacks = [\n",
        "    keras.callbacks.ModelCheckpoint(\"jena_conv.keras\",\n",
        "                                    save_best_only=True)\n",
        "]\n",
        "model.compile(optimizer=\"rmsprop\", loss=\"mse\", metrics=[\"mae\"])\n",
        "history = model.fit(train_dataset,\n",
        "                    epochs=10,\n",
        "                    validation_data=val_dataset,\n",
        "                    callbacks=callbacks)\n",
        "\n",
        "model = keras.models.load_model(\"jena_conv.keras\")\n",
        "print(f\"Test MAE: {model.evaluate(test_dataset)[1]:.2f}\")"
      ],
      "metadata": {
        "id": "zQajJdkboTX_",
        "colab": {
          "base_uri": "https://localhost:8080/"
        },
        "outputId": "bb8bc291-41d3-42f1-90cc-5e463a96bc38"
      },
      "execution_count": null,
      "outputs": [
        {
          "output_type": "stream",
          "name": "stdout",
          "text": [
            "Epoch 1/10\n",
            "819/819 [==============================] - 92s 111ms/step - loss: 22.1474 - mae: 3.6868 - val_loss: 15.5650 - val_mae: 3.1306\n",
            "Epoch 2/10\n",
            "819/819 [==============================] - 90s 109ms/step - loss: 15.9320 - mae: 3.1679 - val_loss: 15.8672 - val_mae: 3.1789\n",
            "Epoch 3/10\n",
            "819/819 [==============================] - 89s 109ms/step - loss: 14.7214 - mae: 3.0414 - val_loss: 16.1837 - val_mae: 3.2042\n",
            "Epoch 4/10\n",
            "819/819 [==============================] - 91s 111ms/step - loss: 13.7476 - mae: 2.9355 - val_loss: 16.1101 - val_mae: 3.1696\n",
            "Epoch 5/10\n",
            "819/819 [==============================] - 94s 115ms/step - loss: 12.9702 - mae: 2.8527 - val_loss: 13.9399 - val_mae: 2.9418\n",
            "Epoch 6/10\n",
            "819/819 [==============================] - 91s 110ms/step - loss: 12.3948 - mae: 2.7901 - val_loss: 13.8745 - val_mae: 2.9326\n",
            "Epoch 7/10\n",
            "819/819 [==============================] - 93s 113ms/step - loss: 11.9217 - mae: 2.7355 - val_loss: 14.4848 - val_mae: 2.9800\n",
            "Epoch 8/10\n",
            "819/819 [==============================] - 92s 112ms/step - loss: 11.4714 - mae: 2.6861 - val_loss: 14.9153 - val_mae: 3.0208\n",
            "Epoch 9/10\n",
            "819/819 [==============================] - 91s 110ms/step - loss: 11.0471 - mae: 2.6360 - val_loss: 13.6246 - val_mae: 2.9189\n",
            "Epoch 10/10\n",
            "819/819 [==============================] - 91s 111ms/step - loss: 10.6622 - mae: 2.5874 - val_loss: 13.6151 - val_mae: 2.9254\n",
            "405/405 [==============================] - 21s 51ms/step - loss: 14.9090 - mae: 3.0770\n",
            "Test MAE: 3.08\n"
          ]
        }
      ]
    },
    {
      "cell_type": "code",
      "source": [
        "import matplotlib.pyplot as plt\n",
        "loss = history.history[\"mae\"]\n",
        "val_loss = history.history[\"val_mae\"]\n",
        "\n",
        "epochs = range(1, len(loss) + 1)\n",
        "plt.figure()\n",
        "plt.plot(epochs, loss, color=\"grey\", linestyle=\"dashed\", label=\"Training MAE\")\n",
        "plt.plot(epochs,  val_loss, color=\"blue\",linestyle=\"dashed\", label=\"Validation MAE\")\n",
        "plt.title(\"Training and validation MAE\")\n",
        "plt.xlabel(\"Epochs\")\n",
        "plt.ylabel(\"MAE\")\n",
        "plt.legend()\n",
        "plt.show()"
      ],
      "metadata": {
        "id": "BH6Ip3eVoWCH",
        "colab": {
          "base_uri": "https://localhost:8080/",
          "height": 472
        },
        "outputId": "69f02c3e-dc70-4c93-9c69-1f5d66a4ed67"
      },
      "execution_count": null,
      "outputs": [
        {
          "output_type": "display_data",
          "data": {
            "text/plain": [
              "<Figure size 640x480 with 1 Axes>"
            ],
            "image/png": "[encoded data removed]"
          },
          "metadata": {}
        }
      ]
    },
    {
      "cell_type": "markdown",
      "source": [
        "*It seem that the convolutional data perform worse compared to common sense or dense model. it could be because*\n",
        "\n",
        "*- The assumption of translation invariance does not hold well for weather data.*\n",
        "\n",
        "*- The order of the data is crucial. Recent past data is significantly more informative for predicting the temperature of the following day compared to data from several days ago. Unfortunately, a 1D convolutional neural network is unable to effectively capture this critical temporal order.*\n",
        "\n",
        "\n",
        "\n",
        "\n"
      ],
      "metadata": {
        "id": "5BxJlpqEoZpA"
      }
    },
    {
      "cell_type": "markdown",
      "source": [
        "## **A Simple RNN**"
      ],
      "metadata": {
        "id": "LMRnv7VHobfX"
      }
    },
    {
      "cell_type": "markdown",
      "source": [
        "### **1.An RNN layer that can process sequences of any length**"
      ],
      "metadata": {
        "id": "q4BxnliQodYr"
      }
    },
    {
      "cell_type": "code",
      "source": [
        "num_features = 14\n",
        "inputs = keras.Input(shape=(None, num_features))\n",
        "outputs = layers.SimpleRNN(16)(inputs)\n",
        "\n",
        "model = keras.Model(inputs, outputs)\n",
        "\n",
        "callbacks = [\n",
        "    keras.callbacks.ModelCheckpoint(\"jena_SimRNN.keras\",\n",
        "                                    save_best_only=True)\n",
        "]\n",
        "model.compile(optimizer=\"rmsprop\", loss=\"mse\", metrics=[\"mae\"])\n",
        "history = model.fit(train_dataset,\n",
        "                    epochs=10,\n",
        "                    validation_data=val_dataset,\n",
        "                    callbacks=callbacks)\n",
        "\n",
        "model = keras.models.load_model(\"jena_SimRNN.keras\")\n",
        "print(f\"Test MAE: {model.evaluate(test_dataset)[1]:.2f}\")"
      ],
      "metadata": {
        "id": "OCW3-fcMoat3",
        "colab": {
          "base_uri": "https://localhost:8080/"
        },
        "outputId": "fb3d112f-4d4b-4d7f-90f5-aa3595474cee"
      },
      "execution_count": null,
      "outputs": [
        {
          "output_type": "stream",
          "name": "stdout",
          "text": [
            "Epoch 1/10\n",
            "819/819 [==============================] - 80s 97ms/step - loss: 138.5750 - mae: 9.6816 - val_loss: 144.0244 - val_mae: 9.9051\n",
            "Epoch 2/10\n",
            "819/819 [==============================] - 78s 95ms/step - loss: 136.4122 - mae: 9.5616 - val_loss: 143.8952 - val_mae: 9.8938\n",
            "Epoch 3/10\n",
            "819/819 [==============================] - 78s 94ms/step - loss: 136.2548 - mae: 9.5485 - val_loss: 143.7170 - val_mae: 9.8751\n",
            "Epoch 4/10\n",
            "819/819 [==============================] - 77s 93ms/step - loss: 136.2142 - mae: 9.5449 - val_loss: 143.6895 - val_mae: 9.8707\n",
            "Epoch 5/10\n",
            "819/819 [==============================] - 79s 97ms/step - loss: 136.1743 - mae: 9.5424 - val_loss: 143.6489 - val_mae: 9.8662\n",
            "Epoch 6/10\n",
            "819/819 [==============================] - 78s 95ms/step - loss: 136.1386 - mae: 9.5391 - val_loss: 143.6575 - val_mae: 9.8675\n",
            "Epoch 7/10\n",
            "819/819 [==============================] - 76s 92ms/step - loss: 136.1154 - mae: 9.5368 - val_loss: 143.6086 - val_mae: 9.8617\n",
            "Epoch 8/10\n",
            "819/819 [==============================] - 76s 93ms/step - loss: 136.1196 - mae: 9.5350 - val_loss: 143.5717 - val_mae: 9.8543\n",
            "Epoch 9/10\n",
            "819/819 [==============================] - 80s 98ms/step - loss: 136.1036 - mae: 9.5330 - val_loss: 143.6270 - val_mae: 9.8601\n",
            "Epoch 10/10\n",
            "819/819 [==============================] - 79s 96ms/step - loss: 136.0959 - mae: 9.5321 - val_loss: 143.5332 - val_mae: 9.8527\n",
            "405/405 [==============================] - 21s 51ms/step - loss: 151.3254 - mae: 9.9261\n",
            "Test MAE: 9.93\n"
          ]
        }
      ]
    },
    {
      "cell_type": "markdown",
      "source": [
        "### **2.Simple RNN - Stacking RNN layers**"
      ],
      "metadata": {
        "id": "xBOrqlb1oj9n"
      }
    },
    {
      "cell_type": "code",
      "source": [
        "num_features = 14\n",
        "steps = 120\n",
        "inputs = keras.Input(shape=(steps, num_features))\n",
        "x = layers.SimpleRNN(16, return_sequences=True)(inputs)\n",
        "x = layers.SimpleRNN(16, return_sequences=True)(x)\n",
        "outputs = layers.SimpleRNN(16)(x)\n",
        "model = keras.Model(inputs, outputs)\n",
        "\n",
        "callbacks = [\n",
        "    keras.callbacks.ModelCheckpoint(\"jena_SRNN2.keras\",\n",
        "                                    save_best_only=True)\n",
        "]\n",
        "model.compile(optimizer=\"rmsprop\", loss=\"mse\", metrics=[\"mae\"])\n",
        "history = model.fit(train_dataset,\n",
        "                    epochs=10,\n",
        "                    validation_data=val_dataset,\n",
        "                    callbacks=callbacks)\n",
        "\n",
        "model = keras.models.load_model(\"jena_SRNN2.keras\")\n",
        "print(f\"Test MAE: {model.evaluate(test_dataset)[1]:.2f}\")\n"
      ],
      "metadata": {
        "id": "8ozdQ4JuolNH",
        "colab": {
          "base_uri": "https://localhost:8080/"
        },
        "outputId": "def4c0d1-689d-4f7f-9f29-5ed3215fb170"
      },
      "execution_count": null,
      "outputs": [
        {
          "output_type": "stream",
          "name": "stdout",
          "text": [
            "Epoch 1/10\n",
            "819/819 [==============================] - 161s 191ms/step - loss: 136.8474 - mae: 9.5675 - val_loss: 143.4280 - val_mae: 9.8400\n",
            "Epoch 2/10\n",
            "819/819 [==============================] - 155s 189ms/step - loss: 135.9654 - mae: 9.5139 - val_loss: 143.4168 - val_mae: 9.8388\n",
            "Epoch 3/10\n",
            "819/819 [==============================] - 169s 206ms/step - loss: 135.9194 - mae: 9.5071 - val_loss: 143.4075 - val_mae: 9.8352\n",
            "Epoch 4/10\n",
            "819/819 [==============================] - 164s 200ms/step - loss: 135.8939 - mae: 9.5035 - val_loss: 143.4572 - val_mae: 9.8428\n",
            "Epoch 5/10\n",
            "819/819 [==============================] - 151s 183ms/step - loss: 135.8675 - mae: 9.5003 - val_loss: 143.4481 - val_mae: 9.8415\n",
            "Epoch 6/10\n",
            "819/819 [==============================] - 142s 173ms/step - loss: 135.8431 - mae: 9.4968 - val_loss: 143.4338 - val_mae: 9.8403\n",
            "Epoch 7/10\n",
            "819/819 [==============================] - 156s 190ms/step - loss: 135.8294 - mae: 9.4942 - val_loss: 143.5148 - val_mae: 9.8523\n",
            "Epoch 8/10\n",
            "819/819 [==============================] - 142s 173ms/step - loss: 135.8124 - mae: 9.4917 - val_loss: 143.5027 - val_mae: 9.8508\n",
            "Epoch 9/10\n",
            "819/819 [==============================] - 139s 170ms/step - loss: 135.8029 - mae: 9.4896 - val_loss: 143.4453 - val_mae: 9.8421\n",
            "Epoch 10/10\n",
            "819/819 [==============================] - 154s 188ms/step - loss: 135.7911 - mae: 9.4871 - val_loss: 143.4642 - val_mae: 9.8441\n",
            "405/405 [==============================] - 30s 71ms/step - loss: 151.1420 - mae: 9.9061\n",
            "Test MAE: 9.91\n"
          ]
        }
      ]
    },
    {
      "cell_type": "markdown",
      "source": [
        "## **A Simple GRU (Gated Recurrent Unit)**"
      ],
      "metadata": {
        "id": "6Z7CQP3jopXT"
      }
    },
    {
      "cell_type": "code",
      "source": [
        "inputs = keras.Input(shape=(sequence_length, raw_data.shape[-1]))\n",
        "x = layers.GRU(16)(inputs)\n",
        "outputs = layers.Dense(1)(x)\n",
        "model = keras.Model(inputs, outputs)\n",
        "\n",
        "callbacks = [\n",
        "    keras.callbacks.ModelCheckpoint(\"jena_gru.keras\",\n",
        "                                    save_best_only=True)\n",
        "]\n",
        "model.compile(optimizer=\"rmsprop\", loss=\"mse\", metrics=[\"mae\"])\n",
        "history = model.fit(train_dataset,\n",
        "                    epochs=10,\n",
        "                    validation_data=val_dataset,\n",
        "                    callbacks=callbacks)\n",
        "\n",
        "model = keras.models.load_model(\"jena_gru.keras\")\n",
        "print(f\"Test MAE: {model.evaluate(test_dataset)[1]:.2f}\")"
      ],
      "metadata": {
        "id": "JakZEPKaorRH",
        "colab": {
          "base_uri": "https://localhost:8080/"
        },
        "outputId": "de081d5c-f043-4274-f0e5-5c0fe07b84a1"
      },
      "execution_count": null,
      "outputs": [
        {
          "output_type": "stream",
          "name": "stdout",
          "text": [
            "Epoch 1/10\n",
            "819/819 [==============================] - 141s 170ms/step - loss: 38.2425 - mae: 4.4590 - val_loss: 12.3529 - val_mae: 2.6510\n",
            "Epoch 2/10\n",
            "819/819 [==============================] - 119s 145ms/step - loss: 10.4484 - mae: 2.5189 - val_loss: 9.8291 - val_mae: 2.4187\n",
            "Epoch 3/10\n",
            "819/819 [==============================] - 138s 169ms/step - loss: 9.5450 - mae: 2.4168 - val_loss: 9.9941 - val_mae: 2.4219\n",
            "Epoch 4/10\n",
            "819/819 [==============================] - 123s 149ms/step - loss: 9.2428 - mae: 2.3764 - val_loss: 9.7384 - val_mae: 2.3908\n",
            "Epoch 5/10\n",
            "819/819 [==============================] - 120s 146ms/step - loss: 9.0231 - mae: 2.3472 - val_loss: 10.4320 - val_mae: 2.4572\n",
            "Epoch 6/10\n",
            "819/819 [==============================] - 118s 144ms/step - loss: 8.8463 - mae: 2.3250 - val_loss: 10.4933 - val_mae: 2.4669\n",
            "Epoch 7/10\n",
            "819/819 [==============================] - 138s 168ms/step - loss: 8.6986 - mae: 2.3062 - val_loss: 10.0932 - val_mae: 2.4296\n",
            "Epoch 8/10\n",
            "819/819 [==============================] - 121s 148ms/step - loss: 8.5604 - mae: 2.2892 - val_loss: 9.9923 - val_mae: 2.4196\n",
            "Epoch 9/10\n",
            "819/819 [==============================] - 120s 147ms/step - loss: 8.4123 - mae: 2.2693 - val_loss: 10.5616 - val_mae: 2.4788\n",
            "Epoch 10/10\n",
            "819/819 [==============================] - 136s 165ms/step - loss: 8.2710 - mae: 2.2520 - val_loss: 10.4728 - val_mae: 2.4784\n",
            "405/405 [==============================] - 26s 62ms/step - loss: 10.2523 - mae: 2.5141\n"
          ]
        }
      ]
    },
    {
      "cell_type": "code",
      "source": [
        "import matplotlib.pyplot as plt\n",
        "loss = history.history[\"mae\"]\n",
        "val_loss = history.history[\"val_mae\"]\n",
        "\n",
        "epochs = range(1, len(loss) + 1)\n",
        "plt.figure()\n",
        "plt.plot(epochs, loss, color=\"grey\", linestyle=\"dashed\", label=\"Training MAE\")\n",
        "plt.plot(epochs,  val_loss, color=\"blue\",linestyle=\"dashed\", label=\"Validation MAE\")\n",
        "plt.title(\"Training and validation MAE\")\n",
        "plt.xlabel(\"Epochs\")\n",
        "plt.ylabel(\"MAE\")\n",
        "plt.legend()\n",
        "plt.show()"
      ],
      "metadata": {
        "id": "W8imLxBwotdP",
        "colab": {
          "base_uri": "https://localhost:8080/",
          "height": 472
        },
        "outputId": "0e5c373d-dc50-4a8d-8be8-2a9387d2492f"
      },
      "execution_count": null,
      "outputs": [
        {
          "output_type": "display_data",
          "data": {
            "text/plain": [
              "<Figure size 640x480 with 1 Axes>"
            ],
            "image/png": "[encoded data removed]"
          },
          "metadata": {}
        }
      ]
    },
    {
      "cell_type": "markdown",
      "source": [
        "## **LSTM(Long Short-Term Memory )**"
      ],
      "metadata": {
        "id": "GyWu8gCMowQU"
      }
    },
    {
      "cell_type": "markdown",
      "source": [
        "### **1.LSTM-Simple**"
      ],
      "metadata": {
        "id": "_DfnF42zoy5k"
      }
    },
    {
      "cell_type": "code",
      "source": [
        "inputs = keras.Input(shape=(sequence_length, raw_data.shape[-1]))\n",
        "x = layers.LSTM(16)(inputs)\n",
        "outputs = layers.Dense(1)(x)\n",
        "model = keras.Model(inputs, outputs)\n",
        "\n",
        "callbacks = [\n",
        "    keras.callbacks.ModelCheckpoint(\"jena_lstm.keras\",\n",
        "                                    save_best_only=True)\n",
        "]\n",
        "model.compile(optimizer=\"rmsprop\", loss=\"mse\", metrics=[\"mae\"])\n",
        "history = model.fit(train_dataset,\n",
        "                    epochs=10,\n",
        "                    validation_data=val_dataset,\n",
        "                    callbacks=callbacks)\n",
        "\n",
        "model = keras.models.load_model(\"jena_lstm.keras\")\n",
        "print(f\"Test MAE: {model.evaluate(test_dataset)[1]:.2f}\")"
      ],
      "metadata": {
        "id": "AvFkGqHxo0HK",
        "colab": {
          "base_uri": "https://localhost:8080/"
        },
        "outputId": "77af3c52-78b6-4928-91bb-3407054d3c0c"
      },
      "execution_count": null,
      "outputs": [
        {
          "output_type": "stream",
          "name": "stdout",
          "text": [
            "Epoch 1/10\n",
            "819/819 [==============================] - 152s 180ms/step - loss: 46.0741 - mae: 4.9703 - val_loss: 13.5454 - val_mae: 2.7936\n",
            "Epoch 2/10\n",
            "819/819 [==============================] - 123s 149ms/step - loss: 11.4926 - mae: 2.6235 - val_loss: 9.5194 - val_mae: 2.4043\n",
            "Epoch 3/10\n",
            "819/819 [==============================] - 135s 165ms/step - loss: 9.9634 - mae: 2.4617 - val_loss: 9.6262 - val_mae: 2.4086\n",
            "Epoch 4/10\n",
            "819/819 [==============================] - 139s 170ms/step - loss: 9.3627 - mae: 2.3828 - val_loss: 9.4427 - val_mae: 2.3812\n",
            "Epoch 5/10\n",
            "819/819 [==============================] - 137s 167ms/step - loss: 8.8833 - mae: 2.3203 - val_loss: 9.8731 - val_mae: 2.4296\n",
            "Epoch 6/10\n",
            "819/819 [==============================] - 124s 151ms/step - loss: 8.5970 - mae: 2.2790 - val_loss: 9.1833 - val_mae: 2.3580\n",
            "Epoch 7/10\n",
            "819/819 [==============================] - 122s 149ms/step - loss: 8.3334 - mae: 2.2481 - val_loss: 9.4887 - val_mae: 2.4031\n",
            "Epoch 8/10\n",
            "819/819 [==============================] - 124s 151ms/step - loss: 8.1111 - mae: 2.2211 - val_loss: 9.3129 - val_mae: 2.3820\n",
            "Epoch 9/10\n",
            "819/819 [==============================] - 122s 149ms/step - loss: 7.9750 - mae: 2.2041 - val_loss: 9.3656 - val_mae: 2.3954\n",
            "Epoch 10/10\n",
            "819/819 [==============================] - 124s 150ms/step - loss: 7.8627 - mae: 2.1893 - val_loss: 9.5662 - val_mae: 2.4298\n",
            "405/405 [==============================] - 30s 72ms/step - loss: 10.4462 - mae: 2.5331\n",
            "Test MAE: 2.53\n"
          ]
        }
      ]
    },
    {
      "cell_type": "code",
      "source": [
        "import matplotlib.pyplot as plt\n",
        "loss = history.history[\"mae\"]\n",
        "val_loss = history.history[\"val_mae\"]\n",
        "\n",
        "epochs = range(1, len(loss) + 1)\n",
        "plt.figure()\n",
        "plt.plot(epochs, loss, color=\"grey\", linestyle=\"dashed\", label=\"Training MAE\")\n",
        "plt.plot(epochs,  val_loss, color=\"blue\",linestyle=\"dashed\", label=\"Validation MAE\")\n",
        "plt.title(\"Training and validation MAE\")\n",
        "plt.xlabel(\"Epochs\")\n",
        "plt.ylabel(\"MAE\")\n",
        "plt.legend()\n",
        "plt.show()"
      ],
      "metadata": {
        "id": "oypAHBW1o4Kk",
        "colab": {
          "base_uri": "https://localhost:8080/",
          "height": 472
        },
        "outputId": "fd42ac56-cefe-4c4a-82fb-7c84dd7ff872"
      },
      "execution_count": null,
      "outputs": [
        {
          "output_type": "display_data",
          "data": {
            "text/plain": [
              "<Figure size 640x480 with 1 Axes>"
            ],
            "image/png": "[encoded data removed]"
          },
          "metadata": {}
        }
      ]
    },
    {
      "cell_type": "markdown",
      "source": [
        "### **2.LSTM - dropout Regularization**"
      ],
      "metadata": {
        "id": "lPgvjHRto79W"
      }
    },
    {
      "cell_type": "code",
      "source": [
        "inputs = keras.Input(shape=(sequence_length, raw_data.shape[-1]))\n",
        "x = layers.LSTM(16, recurrent_dropout=0.25)(inputs)\n",
        "x = layers.Dropout(0.5)(x)\n",
        "outputs = layers.Dense(1)(x)\n",
        "model = keras.Model(inputs, outputs)\n",
        "\n",
        "callbacks = [\n",
        "    keras.callbacks.ModelCheckpoint(\"jena_lstm_dropout.keras\",\n",
        "                                    save_best_only=True)\n",
        "]\n",
        "model.compile(optimizer=\"rmsprop\", loss=\"mse\", metrics=[\"mae\"])\n",
        "history = model.fit(train_dataset,\n",
        "                    epochs=10,\n",
        "                    validation_data=val_dataset,\n",
        "                    callbacks=callbacks)\n",
        "\n",
        "model = keras.models.load_model(\"jena_lstm_dropout.keras\")\n",
        "print(f\"Test MAE: {model.evaluate(test_dataset)[1]:.2f}\")"
      ],
      "metadata": {
        "id": "9dLU3f51o96i",
        "colab": {
          "base_uri": "https://localhost:8080/"
        },
        "outputId": "f63aebc3-192a-4013-b873-f060fa0c6a8e"
      },
      "execution_count": null,
      "outputs": [
        {
          "output_type": "stream",
          "name": "stdout",
          "text": [
            "Epoch 1/10\n",
            "819/819 [==============================] - 206s 249ms/step - loss: 47.9204 - mae: 5.1641 - val_loss: 13.7502 - val_mae: 2.7928\n",
            "Epoch 2/10\n",
            "819/819 [==============================] - 189s 231ms/step - loss: 19.9729 - mae: 3.4403 - val_loss: 9.9502 - val_mae: 2.4493\n",
            "Epoch 3/10\n",
            "819/819 [==============================] - 202s 246ms/step - loss: 18.2320 - mae: 3.2835 - val_loss: 9.6237 - val_mae: 2.4193\n",
            "Epoch 4/10\n",
            "819/819 [==============================] - 189s 230ms/step - loss: 17.3217 - mae: 3.2001 - val_loss: 9.1382 - val_mae: 2.3494\n",
            "Epoch 5/10\n",
            "819/819 [==============================] - 190s 231ms/step - loss: 16.6950 - mae: 3.1444 - val_loss: 9.2154 - val_mae: 2.3608\n",
            "Epoch 6/10\n",
            "819/819 [==============================] - 189s 231ms/step - loss: 16.2344 - mae: 3.0989 - val_loss: 9.4913 - val_mae: 2.3946\n",
            "Epoch 7/10\n",
            "819/819 [==============================] - 190s 231ms/step - loss: 15.6911 - mae: 3.0526 - val_loss: 9.3851 - val_mae: 2.3796\n",
            "Epoch 8/10\n",
            "819/819 [==============================] - 189s 231ms/step - loss: 15.4187 - mae: 3.0251 - val_loss: 9.1269 - val_mae: 2.3508\n",
            "Epoch 9/10\n",
            "819/819 [==============================] - 190s 232ms/step - loss: 15.2156 - mae: 2.9993 - val_loss: 9.2671 - val_mae: 2.3660\n",
            "Epoch 10/10\n",
            "819/819 [==============================] - 203s 248ms/step - loss: 14.9416 - mae: 2.9789 - val_loss: 9.2584 - val_mae: 2.3574\n",
            "405/405 [==============================] - 31s 75ms/step - loss: 10.7948 - mae: 2.5886\n",
            "Test MAE: 2.59\n"
          ]
        }
      ]
    },
    {
      "cell_type": "code",
      "source": [
        "import matplotlib.pyplot as plt\n",
        "loss = history.history[\"mae\"]\n",
        "val_loss = history.history[\"val_mae\"]\n",
        "\n",
        "epochs = range(1, len(loss) + 1)\n",
        "plt.figure()\n",
        "plt.plot(epochs, loss, color=\"grey\", linestyle=\"dashed\", label=\"Training MAE\")\n",
        "plt.plot(epochs,  val_loss, color=\"blue\",linestyle=\"dashed\", label=\"Validation MAE\")\n",
        "plt.title(\"Training and validation MAE\")\n",
        "plt.xlabel(\"Epochs\")\n",
        "plt.ylabel(\"MAE\")\n",
        "plt.legend()\n",
        "plt.show()"
      ],
      "metadata": {
        "id": "-9LmGbS0pBgo",
        "colab": {
          "base_uri": "https://localhost:8080/",
          "height": 472
        },
        "outputId": "54190cff-2f23-4e35-dc62-50d6de851cef"
      },
      "execution_count": null,
      "outputs": [
        {
          "output_type": "display_data",
          "data": {
            "text/plain": [
              "<Figure size 640x480 with 1 Axes>"
            ],
            "image/png": "[encoded data removed]"
          },
          "metadata": {}
        }
      ]
    },
    {
      "cell_type": "code",
      "source": [
        "!pip install tensorflow"
      ],
      "metadata": {
        "colab": {
          "base_uri": "https://localhost:8080/"
        },
        "id": "D3OEYWZzL4KA",
        "outputId": "17702921-f1f3-4315-93be-79d0bf89ca36"
      },
      "execution_count": null,
      "outputs": [
        {
          "output_type": "stream",
          "name": "stdout",
          "text": [
            "Requirement already satisfied: tensorflow in /usr/local/lib/python3.10/dist-packages (2.15.0)\n",
            "Requirement already satisfied: absl-py>=1.0.0 in /usr/local/lib/python3.10/dist-packages (from tensorflow) (1.4.0)\n",
            "Requirement already satisfied: astunparse>=1.6.0 in /usr/local/lib/python3.10/dist-packages (from tensorflow) (1.6.3)\n",
            "Requirement already satisfied: flatbuffers>=23.5.26 in /usr/local/lib/python3.10/dist-packages (from tensorflow) (24.3.25)\n",
            "Requirement already satisfied: gast!=0.5.0,!=0.5.1,!=0.5.2,>=0.2.1 in /usr/local/lib/python3.10/dist-packages (from tensorflow) (0.5.4)\n",
            "Requirement already satisfied: google-pasta>=0.1.1 in /usr/local/lib/python3.10/dist-packages (from tensorflow) (0.2.0)\n",
            "Requirement already satisfied: h5py>=2.9.0 in /usr/local/lib/python3.10/dist-packages (from tensorflow) (3.9.0)\n",
            "Requirement already satisfied: libclang>=13.0.0 in /usr/local/lib/python3.10/dist-packages (from tensorflow) (18.1.1)\n",
            "Requirement already satisfied: ml-dtypes~=0.2.0 in /usr/local/lib/python3.10/dist-packages (from tensorflow) (0.2.0)\n",
            "Requirement already satisfied: numpy<2.0.0,>=1.23.5 in /usr/local/lib/python3.10/dist-packages (from tensorflow) (1.25.2)\n",
            "Requirement already satisfied: opt-einsum>=2.3.2 in /usr/local/lib/python3.10/dist-packages (from tensorflow) (3.3.0)\n",
            "Requirement already satisfied: packaging in /usr/local/lib/python3.10/dist-packages (from tensorflow) (24.0)\n",
            "Requirement already satisfied: protobuf!=4.21.0,!=4.21.1,!=4.21.2,!=4.21.3,!=4.21.4,!=4.21.5,<5.0.0dev,>=3.20.3 in /usr/local/lib/python3.10/dist-packages (from tensorflow) (3.20.3)\n",
            "Requirement already satisfied: setuptools in /usr/local/lib/python3.10/dist-packages (from tensorflow) (67.7.2)\n",
            "Requirement already satisfied: six>=1.12.0 in /usr/local/lib/python3.10/dist-packages (from tensorflow) (1.16.0)\n",
            "Requirement already satisfied: termcolor>=1.1.0 in /usr/local/lib/python3.10/dist-packages (from tensorflow) (2.4.0)\n",
            "Requirement already satisfied: typing-extensions>=3.6.6 in /usr/local/lib/python3.10/dist-packages (from tensorflow) (4.10.0)\n",
            "Requirement already satisfied: wrapt<1.15,>=1.11.0 in /usr/local/lib/python3.10/dist-packages (from tensorflow) (1.14.1)\n",
            "Requirement already satisfied: tensorflow-io-gcs-filesystem>=0.23.1 in /usr/local/lib/python3.10/dist-packages (from tensorflow) (0.36.0)\n",
            "Requirement already satisfied: grpcio<2.0,>=1.24.3 in /usr/local/lib/python3.10/dist-packages (from tensorflow) (1.62.1)\n",
            "Requirement already satisfied: tensorboard<2.16,>=2.15 in /usr/local/lib/python3.10/dist-packages (from tensorflow) (2.15.2)\n",
            "Requirement already satisfied: tensorflow-estimator<2.16,>=2.15.0 in /usr/local/lib/python3.10/dist-packages (from tensorflow) (2.15.0)\n",
            "Requirement already satisfied: keras<2.16,>=2.15.0 in /usr/local/lib/python3.10/dist-packages (from tensorflow) (2.15.0)\n",
            "Requirement already satisfied: wheel<1.0,>=0.23.0 in /usr/local/lib/python3.10/dist-packages (from astunparse>=1.6.0->tensorflow) (0.43.0)\n",
            "Requirement already satisfied: google-auth<3,>=1.6.3 in /usr/local/lib/python3.10/dist-packages (from tensorboard<2.16,>=2.15->tensorflow) (2.27.0)\n",
            "Requirement already satisfied: google-auth-oauthlib<2,>=0.5 in /usr/local/lib/python3.10/dist-packages (from tensorboard<2.16,>=2.15->tensorflow) (1.2.0)\n",
            "Requirement already satisfied: markdown>=2.6.8 in /usr/local/lib/python3.10/dist-packages (from tensorboard<2.16,>=2.15->tensorflow) (3.6)\n",
            "Requirement already satisfied: requests<3,>=2.21.0 in /usr/local/lib/python3.10/dist-packages (from tensorboard<2.16,>=2.15->tensorflow) (2.31.0)\n",
            "Requirement already satisfied: tensorboard-data-server<0.8.0,>=0.7.0 in /usr/local/lib/python3.10/dist-packages (from tensorboard<2.16,>=2.15->tensorflow) (0.7.2)\n",
            "Requirement already satisfied: werkzeug>=1.0.1 in /usr/local/lib/python3.10/dist-packages (from tensorboard<2.16,>=2.15->tensorflow) (3.0.2)\n",
            "Requirement already satisfied: cachetools<6.0,>=2.0.0 in /usr/local/lib/python3.10/dist-packages (from google-auth<3,>=1.6.3->tensorboard<2.16,>=2.15->tensorflow) (5.3.3)\n",
            "Requirement already satisfied: pyasn1-modules>=0.2.1 in /usr/local/lib/python3.10/dist-packages (from google-auth<3,>=1.6.3->tensorboard<2.16,>=2.15->tensorflow) (0.4.0)\n",
            "Requirement already satisfied: rsa<5,>=3.1.4 in /usr/local/lib/python3.10/dist-packages (from google-auth<3,>=1.6.3->tensorboard<2.16,>=2.15->tensorflow) (4.9)\n",
            "Requirement already satisfied: requests-oauthlib>=0.7.0 in /usr/local/lib/python3.10/dist-packages (from google-auth-oauthlib<2,>=0.5->tensorboard<2.16,>=2.15->tensorflow) (1.3.1)\n",
            "Requirement already satisfied: charset-normalizer<4,>=2 in /usr/local/lib/python3.10/dist-packages (from requests<3,>=2.21.0->tensorboard<2.16,>=2.15->tensorflow) (3.3.2)\n",
            "Requirement already satisfied: idna<4,>=2.5 in /usr/local/lib/python3.10/dist-packages (from requests<3,>=2.21.0->tensorboard<2.16,>=2.15->tensorflow) (3.6)\n",
            "Requirement already satisfied: urllib3<3,>=1.21.1 in /usr/local/lib/python3.10/dist-packages (from requests<3,>=2.21.0->tensorboard<2.16,>=2.15->tensorflow) (2.0.7)\n",
            "Requirement already satisfied: certifi>=2017.4.17 in /usr/local/lib/python3.10/dist-packages (from requests<3,>=2.21.0->tensorboard<2.16,>=2.15->tensorflow) (2024.2.2)\n",
            "Requirement already satisfied: MarkupSafe>=2.1.1 in /usr/local/lib/python3.10/dist-packages (from werkzeug>=1.0.1->tensorboard<2.16,>=2.15->tensorflow) (2.1.5)\n",
            "Requirement already satisfied: pyasn1<0.7.0,>=0.4.6 in /usr/local/lib/python3.10/dist-packages (from pyasn1-modules>=0.2.1->google-auth<3,>=1.6.3->tensorboard<2.16,>=2.15->tensorflow) (0.6.0)\n",
            "Requirement already satisfied: oauthlib>=3.0.0 in /usr/local/lib/python3.10/dist-packages (from requests-oauthlib>=0.7.0->google-auth-oauthlib<2,>=0.5->tensorboard<2.16,>=2.15->tensorflow) (3.2.2)\n"
          ]
        }
      ]
    },
    {
      "cell_type": "code",
      "source": [
        "import tensorflow as tf"
      ],
      "metadata": {
        "id": "QHzHAzoeL6ag"
      },
      "execution_count": null,
      "outputs": []
    },
    {
      "cell_type": "markdown",
      "source": [
        "### **3.LSTM - Stacked setup with 16 units**"
      ],
      "metadata": {
        "id": "SgHWjwGlpElS"
      }
    },
    {
      "cell_type": "code",
      "source": [
        "inputs = keras.Input(shape=(sequence_length, raw_data.shape[-1]))\n",
        "x = layers.LSTM(16, return_sequences=True)(inputs)\n",
        "x = layers.LSTM(16)(x)\n",
        "outputs = layers.Dense(1)(x)\n",
        "model = keras.Model(inputs, outputs)\n",
        "\n",
        "callbacks = [\n",
        "    keras.callbacks.ModelCheckpoint(\"jena_LSTM_stacked1.keras\",\n",
        "                                    save_best_only=True)\n",
        "]\n",
        "model.compile(optimizer=\"rmsprop\", loss=\"mse\", metrics=[\"mae\"])\n",
        "history = model.fit(train_dataset,\n",
        "                    epochs=10,\n",
        "                    validation_data=val_dataset,\n",
        "                    callbacks=callbacks)\n",
        "model = keras.models.load_model(\"jena_LSTM_stacked1.keras\")\n",
        "print(f\"Test MAE: {model.evaluate(test_dataset)[1]:.2f}\")"
      ],
      "metadata": {
        "id": "F9tApEj7pG4m",
        "colab": {
          "base_uri": "https://localhost:8080/",
          "height": 211
        },
        "outputId": "cf803d9a-cf40-418c-f51c-0c7b6b7cc5b3"
      },
      "execution_count": null,
      "outputs": [
        {
          "output_type": "error",
          "ename": "AttributeError",
          "evalue": "'ellipsis' object has no attribute 'shape'",
          "traceback": [
            "\u001b[0;31m---------------------------------------------------------------------------\u001b[0m",
            "\u001b[0;31mAttributeError\u001b[0m                            Traceback (most recent call last)",
            "\u001b[0;32m<ipython-input-9-1a249737f383>\u001b[0m in \u001b[0;36m<cell line: 6>\u001b[0;34m()\u001b[0m\n\u001b[1;32m      4\u001b[0m \u001b[0;34m\u001b[0m\u001b[0m\n\u001b[1;32m      5\u001b[0m \u001b[0;31m# Fix the code\u001b[0m\u001b[0;34m\u001b[0m\u001b[0;34m\u001b[0m\u001b[0m\n\u001b[0;32m----> 6\u001b[0;31m \u001b[0minputs\u001b[0m \u001b[0;34m=\u001b[0m \u001b[0mkeras\u001b[0m\u001b[0;34m.\u001b[0m\u001b[0mInput\u001b[0m\u001b[0;34m(\u001b[0m\u001b[0mshape\u001b[0m\u001b[0;34m=\u001b[0m\u001b[0;34m(\u001b[0m\u001b[0msequence_length\u001b[0m\u001b[0;34m,\u001b[0m \u001b[0mraw_data\u001b[0m\u001b[0;34m.\u001b[0m\u001b[0mshape\u001b[0m\u001b[0;34m[\u001b[0m\u001b[0;34m-\u001b[0m\u001b[0;36m1\u001b[0m\u001b[0;34m]\u001b[0m\u001b[0;34m)\u001b[0m\u001b[0;34m)\u001b[0m\u001b[0;34m\u001b[0m\u001b[0;34m\u001b[0m\u001b[0m\n\u001b[0m\u001b[1;32m      7\u001b[0m \u001b[0mx\u001b[0m \u001b[0;34m=\u001b[0m \u001b[0mlayers\u001b[0m\u001b[0;34m.\u001b[0m\u001b[0mLSTM\u001b[0m\u001b[0;34m(\u001b[0m\u001b[0;36m16\u001b[0m\u001b[0;34m,\u001b[0m \u001b[0mreturn_sequences\u001b[0m\u001b[0;34m=\u001b[0m\u001b[0;32mTrue\u001b[0m\u001b[0;34m)\u001b[0m\u001b[0;34m(\u001b[0m\u001b[0minputs\u001b[0m\u001b[0;34m)\u001b[0m\u001b[0;34m\u001b[0m\u001b[0;34m\u001b[0m\u001b[0m\n\u001b[1;32m      8\u001b[0m \u001b[0mx\u001b[0m \u001b[0;34m=\u001b[0m \u001b[0mlayers\u001b[0m\u001b[0;34m.\u001b[0m\u001b[0mLSTM\u001b[0m\u001b[0;34m(\u001b[0m\u001b[0;36m16\u001b[0m\u001b[0;34m)\u001b[0m\u001b[0;34m(\u001b[0m\u001b[0mx\u001b[0m\u001b[0;34m)\u001b[0m\u001b[0;34m\u001b[0m\u001b[0;34m\u001b[0m\u001b[0m\n",
            "\u001b[0;31mAttributeError\u001b[0m: 'ellipsis' object has no attribute 'shape'"
          ]
        }
      ]
    },
    {
      "cell_type": "code",
      "source": [
        "import matplotlib.pyplot as plt\n",
        "loss = history.history[\"mae\"]\n",
        "val_loss = history.history[\"val_mae\"]\n",
        "\n",
        "epochs = range(1, len(loss) + 1)\n",
        "plt.figure()\n",
        "plt.plot(epochs, loss, color=\"grey\", linestyle=\"dashed\", label=\"Training MAE\")\n",
        "plt.plot(epochs,  val_loss, color=\"blue\",linestyle=\"dashed\", label=\"Validation MAE\")\n",
        "plt.title(\"Training and validation MAE\")\n",
        "plt.xlabel(\"Epochs\")\n",
        "plt.ylabel(\"MAE\")\n",
        "plt.legend()\n",
        "plt.show()"
      ],
      "metadata": {
        "id": "chEW2H9mpK-f",
        "colab": {
          "base_uri": "https://localhost:8080/",
          "height": 211
        },
        "outputId": "ca5a3b6a-5d9b-48e4-ac3e-21de59fa92ee"
      },
      "execution_count": null,
      "outputs": [
        {
          "output_type": "error",
          "ename": "NameError",
          "evalue": "name 'history' is not defined",
          "traceback": [
            "\u001b[0;31m---------------------------------------------------------------------------\u001b[0m",
            "\u001b[0;31mNameError\u001b[0m                                 Traceback (most recent call last)",
            "\u001b[0;32m<ipython-input-7-5c670724beb0>\u001b[0m in \u001b[0;36m<cell line: 2>\u001b[0;34m()\u001b[0m\n\u001b[1;32m      1\u001b[0m \u001b[0;32mimport\u001b[0m \u001b[0mmatplotlib\u001b[0m\u001b[0;34m.\u001b[0m\u001b[0mpyplot\u001b[0m \u001b[0;32mas\u001b[0m \u001b[0mplt\u001b[0m\u001b[0;34m\u001b[0m\u001b[0;34m\u001b[0m\u001b[0m\n\u001b[0;32m----> 2\u001b[0;31m \u001b[0mloss\u001b[0m \u001b[0;34m=\u001b[0m \u001b[0mhistory\u001b[0m\u001b[0;34m.\u001b[0m\u001b[0mhistory\u001b[0m\u001b[0;34m[\u001b[0m\u001b[0;34m\"mae\"\u001b[0m\u001b[0;34m]\u001b[0m\u001b[0;34m\u001b[0m\u001b[0;34m\u001b[0m\u001b[0m\n\u001b[0m\u001b[1;32m      3\u001b[0m \u001b[0mval_loss\u001b[0m \u001b[0;34m=\u001b[0m \u001b[0mhistory\u001b[0m\u001b[0;34m.\u001b[0m\u001b[0mhistory\u001b[0m\u001b[0;34m[\u001b[0m\u001b[0;34m\"val_mae\"\u001b[0m\u001b[0;34m]\u001b[0m\u001b[0;34m\u001b[0m\u001b[0;34m\u001b[0m\u001b[0m\n\u001b[1;32m      4\u001b[0m \u001b[0;34m\u001b[0m\u001b[0m\n\u001b[1;32m      5\u001b[0m \u001b[0mepochs\u001b[0m \u001b[0;34m=\u001b[0m \u001b[0mrange\u001b[0m\u001b[0;34m(\u001b[0m\u001b[0;36m1\u001b[0m\u001b[0;34m,\u001b[0m \u001b[0mlen\u001b[0m\u001b[0;34m(\u001b[0m\u001b[0mloss\u001b[0m\u001b[0;34m)\u001b[0m \u001b[0;34m+\u001b[0m \u001b[0;36m1\u001b[0m\u001b[0;34m)\u001b[0m\u001b[0;34m\u001b[0m\u001b[0;34m\u001b[0m\u001b[0m\n",
            "\u001b[0;31mNameError\u001b[0m: name 'history' is not defined"
          ]
        }
      ]
    },
    {
      "cell_type": "markdown",
      "source": [
        "### **4.LSTM - Stacked setup with 32 units**"
      ],
      "metadata": {
        "id": "2QW9Xz83pN9F"
      }
    },
    {
      "cell_type": "code",
      "source": [
        "inputs = keras.Input(shape=(sequence_length, raw_data.shape[-1]))\n",
        "x = layers.LSTM(32, return_sequences=True)(inputs)\n",
        "x = layers.LSTM(32)(x)\n",
        "outputs = layers.Dense(1)(x)\n",
        "model = keras.Model(inputs, outputs)\n",
        "\n",
        "callbacks = [\n",
        "    keras.callbacks.ModelCheckpoint(\"jena_LSTM_stacked2.keras\",\n",
        "                                    save_best_only=True)\n",
        "]\n",
        "model.compile(optimizer=\"rmsprop\", loss=\"mse\", metrics=[\"mae\"])\n",
        "history = model.fit(train_dataset,\n",
        "                    epochs=10,\n",
        "                    validation_data=val_dataset,\n",
        "                    callbacks=callbacks)\n",
        "model = keras.models.load_model(\"jena_LSTM_stacked2.keras\")\n",
        "print(f\"Test MAE: {model.evaluate(test_dataset)[1]:.2f}\")"
      ],
      "metadata": {
        "id": "j7wmo1VZpO8H"
      },
      "execution_count": null,
      "outputs": []
    },
    {
      "cell_type": "code",
      "source": [
        "import matplotlib.pyplot as plt\n",
        "loss = history.history[\"mae\"]\n",
        "val_loss = history.history[\"val_mae\"]\n",
        "\n",
        "epochs = range(1, len(loss) + 1)\n",
        "plt.figure()\n",
        "plt.plot(epochs, loss, color=\"grey\", linestyle=\"dashed\", label=\"Training MAE\")\n",
        "plt.plot(epochs,  val_loss, color=\"blue\",linestyle=\"dashed\", label=\"Validation MAE\")\n",
        "plt.title(\"Training and validation MAE\")\n",
        "plt.xlabel(\"Epochs\")\n",
        "plt.ylabel(\"MAE\")\n",
        "plt.legend()\n",
        "plt.show()"
      ],
      "metadata": {
        "id": "Xwr7ochapT3T"
      },
      "execution_count": null,
      "outputs": []
    },
    {
      "cell_type": "markdown",
      "source": [
        "### **4.LSTM - Stacked setup with 8 units**"
      ],
      "metadata": {
        "id": "J2-VUaLQpWQq"
      }
    },
    {
      "cell_type": "code",
      "source": [
        "inputs = keras.Input(shape=(sequence_length, raw_data.shape[-1]))\n",
        "x = layers.LSTM(8, return_sequences=True)(inputs)\n",
        "x = layers.LSTM(8)(x)\n",
        "outputs = layers.Dense(1)(x)\n",
        "model = keras.Model(inputs, outputs)\n",
        "\n",
        "callbacks = [\n",
        "    keras.callbacks.ModelCheckpoint(\"jena_LSTM_stacked3.keras\",\n",
        "                                    save_best_only=True)\n",
        "]\n",
        "model.compile(optimizer=\"rmsprop\", loss=\"mse\", metrics=[\"mae\"])\n",
        "history = model.fit(train_dataset,\n",
        "                    epochs=10,\n",
        "                    validation_data=val_dataset,\n",
        "                    callbacks=callbacks)\n",
        "model = keras.models.load_model(\"jena_LSTM_stacked3.keras\")\n",
        "print(f\"Test MAE: {model.evaluate(test_dataset)[1]:.2f}\")"
      ],
      "metadata": {
        "id": "QPQoVUWzpYYd"
      },
      "execution_count": null,
      "outputs": []
    },
    {
      "cell_type": "code",
      "source": [
        "import matplotlib.pyplot as plt\n",
        "loss = history.history[\"mae\"]\n",
        "val_loss = history.history[\"val_mae\"]\n",
        "\n",
        "epochs = range(1, len(loss) + 1)\n",
        "plt.figure()\n",
        "plt.plot(epochs, loss, color=\"grey\", linestyle=\"dashed\", label=\"Training MAE\")\n",
        "plt.plot(epochs,  val_loss, color=\"blue\",linestyle=\"dashed\", label=\"Validation MAE\")\n",
        "plt.title(\"Training and validation MAE\")\n",
        "plt.xlabel(\"Epochs\")\n",
        "plt.ylabel(\"MAE\")\n",
        "plt.legend()\n",
        "plt.show()"
      ],
      "metadata": {
        "id": "ar2yjJozpbIU"
      },
      "execution_count": null,
      "outputs": []
    },
    {
      "cell_type": "markdown",
      "source": [
        "### **5.LSTM - dropout-regularized, stacked model**"
      ],
      "metadata": {
        "id": "_z4f62n_pd2R"
      }
    },
    {
      "cell_type": "code",
      "source": [
        "inputs = keras.Input(shape=(sequence_length, raw_data.shape[-1]))\n",
        "x = layers.LSTM(8, recurrent_dropout=0.5, return_sequences=True)(inputs)\n",
        "x = layers.LSTM(8, recurrent_dropout=0.5)(x)\n",
        "x = layers.Dropout(0.5)(x)\n",
        "outputs = layers.Dense(1)(x)\n",
        "model = keras.Model(inputs, outputs)\n",
        "\n",
        "callbacks = [\n",
        "    keras.callbacks.ModelCheckpoint(\"jena_stacked_LSTM_dropout.keras\",\n",
        "                                    save_best_only=True)\n",
        "]\n",
        "model.compile(optimizer=\"rmsprop\", loss=\"mse\", metrics=[\"mae\"])\n",
        "history = model.fit(train_dataset,\n",
        "                    epochs=10,\n",
        "                    validation_data=val_dataset,\n",
        "                    callbacks=callbacks)\n",
        "model = keras.models.load_model(\"jena_stacked_LSTM_dropout.keras\")\n",
        "print(f\"Test MAE: {model.evaluate(test_dataset)[1]:.2f}\")"
      ],
      "metadata": {
        "id": "aQx2iC4qpftj"
      },
      "execution_count": null,
      "outputs": []
    },
    {
      "cell_type": "code",
      "source": [
        "import matplotlib.pyplot as plt\n",
        "loss = history.history[\"mae\"]\n",
        "val_loss = history.history[\"val_mae\"]\n",
        "\n",
        "epochs = range(1, len(loss) + 1)\n",
        "plt.figure()\n",
        "plt.plot(epochs, loss, color=\"grey\", linestyle=\"dashed\", label=\"Training MAE\")\n",
        "plt.plot(epochs,  val_loss, color=\"blue\",linestyle=\"dashed\", label=\"Validation MAE\")\n",
        "plt.title(\"Training and validation MAE\")\n",
        "plt.xlabel(\"Epochs\")\n",
        "plt.ylabel(\"MAE\")\n",
        "plt.legend()\n",
        "plt.show()"
      ],
      "metadata": {
        "id": "wBc8SEcGpia8"
      },
      "execution_count": null,
      "outputs": []
    },
    {
      "cell_type": "markdown",
      "source": [
        "## **Bidirectional LSTM**"
      ],
      "metadata": {
        "id": "3r3FLQ5yploM"
      }
    },
    {
      "cell_type": "code",
      "source": [
        "inputs = keras.Input(shape=(sequence_length, raw_data.shape[-1]))\n",
        "x = layers.Bidirectional(layers.LSTM(16))(inputs)\n",
        "outputs = layers.Dense(1)(x)\n",
        "model = keras.Model(inputs, outputs)\n",
        "\n",
        "callbacks = [\n",
        "    keras.callbacks.ModelCheckpoint(\"jena_bidirec_LSTM.keras\",\n",
        "                                    save_best_only=True)\n",
        "]\n",
        "\n",
        "model.compile(optimizer=\"rmsprop\", loss=\"mse\", metrics=[\"mae\"])\n",
        "history = model.fit(train_dataset,\n",
        "                    epochs=10,\n",
        "                    validation_data=val_dataset,\n",
        "                     callbacks=callbacks)\n",
        "\n",
        "model = keras.models.load_model(\"jena_bidirec_LSTM.keras\")\n",
        "print(f\"Test MAE: {model.evaluate(test_dataset)[1]:.2f}\")\n"
      ],
      "metadata": {
        "id": "y0zi4HrKpoX7"
      },
      "execution_count": null,
      "outputs": []
    },
    {
      "cell_type": "code",
      "source": [
        "import matplotlib.pyplot as plt\n",
        "loss = history.history[\"mae\"]\n",
        "val_loss = history.history[\"val_mae\"]\n",
        "\n",
        "epochs = range(1, len(loss) + 1)\n",
        "plt.figure()\n",
        "plt.plot(epochs, loss, color=\"grey\", linestyle=\"dashed\", label=\"Training MAE\")\n",
        "plt.plot(epochs,  val_loss, color=\"blue\",linestyle=\"dashed\", label=\"Validation MAE\")\n",
        "plt.title(\"Training and validation MAE\")\n",
        "plt.xlabel(\"Epochs\")\n",
        "plt.ylabel(\"MAE\")\n",
        "plt.legend()\n",
        "plt.show()"
      ],
      "metadata": {
        "id": "JaMyDqKGprmr"
      },
      "execution_count": null,
      "outputs": []
    },
    {
      "cell_type": "markdown",
      "source": [
        "### **1D Convnets and LSTM togther**"
      ],
      "metadata": {
        "id": "nqxfY2dTpuew"
      }
    },
    {
      "cell_type": "code",
      "source": [
        "\n",
        "inputs = keras.Input(shape=(sequence_length, raw_data.shape[-1]))\n",
        "x = layers.Conv1D(64, 3, activation='relu')(inputs)\n",
        "x = layers.MaxPooling1D(3)(x)\n",
        "x = layers.Conv1D(128, 3, activation='relu')(x)\n",
        "x = layers.GlobalMaxPooling1D()(x)\n",
        "x = layers.Reshape((-1, 128))(x)  # Reshape the data to be 3D\n",
        "x = layers.LSTM(16)(x)\n",
        "outputs = layers.Dense(1)(x)\n",
        "model = keras.Model(inputs, outputs)\n",
        "\n",
        "model.compile(optimizer=\"rmsprop\", loss=\"mse\", metrics=[\"mae\"])\n",
        "\n",
        "callbacks = [\n",
        "    keras.callbacks.ModelCheckpoint(\"jena_Conv_LSTM.keras\", save_best_only=True)\n",
        "]\n",
        "\n",
        "history = model.fit(train_dataset, epochs=10, validation_data=val_dataset, callbacks=callbacks)\n",
        "\n",
        "model = keras.models.load_model(\"jena_Conv_LSTM.keras\")\n",
        "print(f\"Test MAE: {model.evaluate(test_dataset)[1]:.2f}\")"
      ],
      "metadata": {
        "id": "w0aGwBwwpxVW"
      },
      "execution_count": null,
      "outputs": []
    },
    {
      "cell_type": "code",
      "source": [
        "import matplotlib.pyplot as plt\n",
        "loss = history.history[\"mae\"]\n",
        "val_loss = history.history[\"val_mae\"]\n",
        "\n",
        "epochs = range(1, len(loss) + 1)\n",
        "plt.figure()\n",
        "plt.plot(epochs, loss, color=\"grey\", linestyle=\"dashed\", label=\"Training MAE\")\n",
        "plt.plot(epochs,  val_loss, color=\"blue\",linestyle=\"dashed\", label=\"Validation MAE\")\n",
        "plt.title(\"Training and validation MAE\")\n",
        "plt.xlabel(\"Epochs\")\n",
        "plt.ylabel(\"MAE\")\n",
        "plt.legend()\n",
        "plt.show()"
      ],
      "metadata": {
        "id": "Cx6FvpUNp0vM"
      },
      "execution_count": null,
      "outputs": []
    },
    {
      "cell_type": "markdown",
      "source": [
        "We built 13 models: Following are the details;\n",
        "\n",
        "**Model 1:** common-sense, non-machine-learning baseline\n",
        "\n",
        "**Model 2:** A basic machine-learning model\n",
        "\n",
        "**Model 3:** 1D convolutional model\n",
        "\n",
        "**Model 4:** Simple RNN layer that can process sequences of any length\n",
        "\n",
        "**Model 5:** Simple RNN - Stacking RNN layers\n",
        "\n",
        "**Model 6:** A Simple GRU (Gated Recurrent Unit)\n",
        "\n",
        "**Model 7:** LSTM-Simple\n",
        "\n",
        "**Model 8:** LSTM - dropout Regularization\n",
        "\n",
        "**Model 9:** LSTM Stacked setup with 16 units\n",
        "\n",
        "**Model 10:** LSTM Stacked setup with 32 units\n",
        "\n",
        "**Model 11:** LSTM Stacked setup with 8 units\n",
        "\n",
        "**Model 12:** LSTM - dropout-regularized, stacked up with 8unit\n",
        "\n",
        "**Model 13:** Bidirectional LSTM\n",
        "\n",
        "**Model 14:** 1D Convnets and LSTM togther"
      ],
      "metadata": {
        "id": "0UjovyNAp4PU"
      }
    },
    {
      "cell_type": "code",
      "source": [
        "Models = (\"1\",\"2\",\"3\",\"4\",\"5\",\"6\",\"7\",\"8\",\"9\",\"10\",\"11\",\"12\",\"13\",\"14\")\n",
        "Mae = (2.62,2.67,3.2,9.92,9.9,2.5,2.59,2.54,2.58,2.68,2.55,2.56,2.59,4.01)\n",
        "\n",
        "# MAE Evaluation\n",
        "plt.scatter(Models, Mae, color=\"red\")\n",
        "plt.title(\"MAE Evaluation\")\n",
        "plt.xlabel(\"Model Number\")\n",
        "plt.ylabel(\"MAE\")\n",
        "\n",
        "for (xi, yi) in zip(Models,Mae):\n",
        "    plt.text(xi, yi, yi, va='bottom', ha='center')\n",
        "\n",
        "plt.show()"
      ],
      "metadata": {
        "id": "3wtFmDzLqGgF"
      },
      "execution_count": null,
      "outputs": []
    },
    {
      "cell_type": "markdown",
      "source": [
        "<u>**Conclusion:-**</u> We created 14 models total. The first one is not a machine learning model , it’s just the common sense base line method which was giving 2.62 MAE. Later we created the basic machine learning model(danse layer) which gave 2.67 MAE which is slightly higher than the common sense method MAE. The dense layer is not performing well because the connected approach first flattened the timeseries, which removed the notion of time from the input data. We also tried convolution model but it was giving us very poor results because the convolutional approach treated every segment of the data in the same way, even applying pooling, which destroyed the order of information.\n",
        "Hence there is a specific architecture for time series data which is RNN (Recurrent Neural Networks). The key characteristic of an RNN is its ability to use information from previous steps in its current decision-making process. This enables the network to capture dependencies and patterns within sequential data. The internal state of an RNN serves as a memory of the previous inputs it has seen, making it capable of modeling sequences of arbitrary lengths. The simple RNN is generally too simplistic to be of real use. In particular, SimpleRNN has a major issue: As we can see from the graph as well, the simple RNN is the worst performer among all. Theoretically, the SimpleRNN at any time t can retain information for all previous time periods, however, practically it makes learning in the network difficult. This is due to the** vanishing gradient problem**, whereby for deep networks, the network becomes untrainable. The LSTM and GRU RNNs were developed to address this problem and are included as part of Keras. We tried the simple GRU and it showed the best result among all the models due to its ability to capture long-range dependencies in sequential data while being computationally less expensive compared to LSTMs.\n",
        "\n",
        "LSTMs are one of the most famous architecture to handle time series data and we ran 6 different models for LSTM by changing the units in Stacking recurrent layers to 8,16 and 32. 8 gave the best result among all the 3 units. We also tried Recurrent dropout to avoid overfitting and Bidirectional data which presents the same information to a recurrent network in different ways, increasing accuracy and mitigating the forgetting issue. All of these models have MAE values near to each other and are also lower than the common sense model. We can confirm the same from the MAE evaluation graph.\n",
        "\n",
        "At the end we also build a model using a combination of 1D convolution model and RNN but it gave a poor 4.01 MAE probably because of the Convolution limitation which is destroying order of information."
      ],
      "metadata": {
        "id": "yNfj_ldcqKaa"
      }
    },
    {
      "cell_type": "markdown",
      "source": [
        "<u>**Recommendation:-**</u> As I have observed, simple RNNs suffer from the vanishing gradient problem, making them less effective in capturing long-term dependencies. It's advisable to use more advanced RNN architectures, such as LSTM and GRU, which are designed to mitigate these issues. Also, LSTM is a popular choice for handling time series data due to its ability to capture long-term dependencies, **but experiments have shown that GRU can be a more efficient option. I recommend to try to optimize GRU by tuning the hyperparameters such as the number of units in the stacked recurrent layers, the recurrent dropout rate, and the use of bidirectional data**\n",
        "\n",
        "Based on the results I obtained, the combination of 1D convolution and RNN did not yield the best performance. Given the limitations of the convolutional approach in destroying the order of information in your time series data, **it's advisable to focus on architectures that are specifically designed for handling sequential data, such as pure RNNs.**\n"
      ],
      "metadata": {
        "id": "3P3GEZc0qQGr"
      }
    }
  ]
}